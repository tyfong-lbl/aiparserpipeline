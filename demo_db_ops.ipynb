{
 "cells": [
  {
   "cell_type": "code",
   "execution_count": 1,
   "id": "901020a7",
   "metadata": {},
   "outputs": [],
   "source": [
    "import pandas as pd\n",
    "import sqlite3\n",
    "import json \n",
    "import numpy as np\n",
    "\n",
    "from pathlib import Path"
   ]
  },
  {
   "cell_type": "code",
   "execution_count": 2,
   "id": "526d1dc1",
   "metadata": {},
   "outputs": [],
   "source": [
    "file = Path(\"test_20240606.csv\")\n",
    "df = pd.read_csv(file)"
   ]
  },
  {
   "cell_type": "code",
   "execution_count": 3,
   "id": "ef6cc4d6",
   "metadata": {},
   "outputs": [
    {
     "data": {
      "text/plain": [
       "['Unnamed: 0',\n",
       " 'owner',\n",
       " 'offtaker',\n",
       " 'storage_energy',\n",
       " 'storage_power',\n",
       " 'url',\n",
       " 'location',\n",
       " 'developer',\n",
       " 'offtake_desc',\n",
       " 'epc',\n",
       " 'gen_dc',\n",
       " 'gen_ac',\n",
       " 'cost',\n",
       " 'cost_yr',\n",
       " 'technology_general',\n",
       " 'tech_module',\n",
       " 'module_count',\n",
       " 'tech_invert',\n",
       " 'invert_count',\n",
       " 'tracking',\n",
       " 'storage',\n",
       " 'storage_tech',\n",
       " 'storage_config',\n",
       " 'project_description',\n",
       " 'name']"
      ]
     },
     "execution_count": 3,
     "metadata": {},
     "output_type": "execute_result"
    }
   ],
   "source": [
    "list(df.columns)"
   ]
  },
  {
   "cell_type": "code",
   "execution_count": 4,
   "id": "b03bde72",
   "metadata": {},
   "outputs": [
    {
     "data": {
      "text/plain": [
       "25"
      ]
     },
     "execution_count": 4,
     "metadata": {},
     "output_type": "execute_result"
    }
   ],
   "source": [
    "# Create a connection to the SQLite database\n",
    "conn = sqlite3.connect('project_data.db')\n",
    "\n",
    "# Write the dataframe to a SQLite table\n",
    "df.to_sql('raw_data', conn, if_exists='replace', index=False)"
   ]
  },
  {
   "cell_type": "code",
   "execution_count": 5,
   "id": "d5f2b2c6",
   "metadata": {},
   "outputs": [],
   "source": [
    "# Create a function to aggregate data\n",
    "def aggregate_data(group):\n",
    "    result = {}\n",
    "    for column in group.columns:\n",
    "        if column != 'url':  # Skip the 'url' column\n",
    "            unique_values = group[column].dropna().unique()\n",
    "            if len(unique_values) == 1:\n",
    "                result[column] = unique_values[0]\n",
    "            elif len(unique_values) > 1:\n",
    "                result[column] = list(unique_values)\n",
    "            else:\n",
    "                result[column] = None\n",
    "    return pd.Series(result)"
   ]
  },
  {
   "cell_type": "code",
   "execution_count": 6,
   "id": "3a6ba5e0",
   "metadata": {},
   "outputs": [],
   "source": [
    "# Perform the aggregation\n",
    "query = '''\n",
    "SELECT *\n",
    "FROM raw_data\n",
    "'''\n",
    "df = pd.read_sql_query(query, conn)\n",
    "aggregated_df = df.groupby('url', as_index=False).apply(aggregate_data)\n",
    "\n"
   ]
  },
  {
   "cell_type": "code",
   "execution_count": 7,
   "id": "240955d0",
   "metadata": {},
   "outputs": [],
   "source": [
    "# Function to serialize data for SQLite\n",
    "def serialize_data(value):\n",
    "    if isinstance(value, (list, dict)):\n",
    "        return json.dumps([serialize_data(v) for v in value] if isinstance(value, list) else value)\n",
    "    elif isinstance(value, (np.integer, np.floating)):\n",
    "        return int(value) if isinstance(value, np.integer) else float(value)\n",
    "    elif isinstance(value, np.ndarray):\n",
    "        return serialize_data(value.tolist())\n",
    "    elif pd.isna(value):\n",
    "        return None\n",
    "    return value"
   ]
  },
  {
   "cell_type": "code",
   "execution_count": 8,
   "id": "33c054e8",
   "metadata": {},
   "outputs": [
    {
     "data": {
      "text/plain": [
       "4"
      ]
     },
     "execution_count": 8,
     "metadata": {},
     "output_type": "execute_result"
    }
   ],
   "source": [
    "# Apply serialization to all elements\n",
    "aggregated_df = aggregated_df.applymap(serialize_data)\n",
    "\n",
    "# Write the aggregated data to a new table\n",
    "aggregated_df.to_sql('aggregated_data', conn, if_exists='replace', index=False)\n"
   ]
  },
  {
   "cell_type": "code",
   "execution_count": 9,
   "id": "3e596217",
   "metadata": {},
   "outputs": [
    {
     "name": "stdout",
     "output_type": "stream",
     "text": [
      "                                                 url  \\\n",
      "0  https://www.energy-storage.news/goldman-sachs-...   \n",
      "1  https://www.energy-storage.news/progress-repor...   \n",
      "2  https://www.nsenergybusiness.com/news/canadian...   \n",
      "3  https://www.nsenergybusiness.com/news/recurren...   \n",
      "\n",
      "                            Unnamed: 0                                 owner  \\\n",
      "0                      [0, 1, 2, 3, 4]         Goldman Sachs Renewable Power   \n",
      "1                 [20, 21, 22, 23, 24]  Goldman Sachs Renewable Power (GSRP)   \n",
      "2                 [15, 16, 17, 18, 19]                      Recurrent Energy   \n",
      "3  [5, 6, 7, 8, 9, 10, 11, 12, 13, 14]  Goldman Sachs Renewable Power (GSRP)   \n",
      "\n",
      "                                            offtaker  storage_energy  \\\n",
      "0  ['Silicon Valley Clean Energy', 'Monterey Bay ...           561.0   \n",
      "1  ['Silicon Valley Clean Energy', 'Monterey Bay ...           561.0   \n",
      "2  ['Silicon Valley Clean Energy', 'Monterey Bay ...           180.0   \n",
      "3  ['five different off-takers (four for solar an...           561.0   \n",
      "\n",
      "   storage_power                                           location  \\\n",
      "0            NaN          {'state': 'California', 'country': 'USA'}   \n",
      "1         140.25   {'state': 'California', 'county': 'Kern County'}   \n",
      "2          45.00  {'county': 'Kings County', 'state': 'Californi...   \n",
      "3         140.25  {'county': 'Kings County', 'state': 'Californi...   \n",
      "\n",
      "          developer                                       offtake_desc   epc  \\\n",
      "0  Recurrent Energy  15-year power purchase agreement (PPA) deals w...  None   \n",
      "1  Recurrent Energy  Energy will be sold to two community choice ag...  None   \n",
      "2  Recurrent Energy  Supplying power to Silicon Valley Clean Energy...  None   \n",
      "3  Recurrent Energy  Power purchase agreements (PPAs) with five dif...  None   \n",
      "\n",
      "   ...                                    tech_module module_count  \\\n",
      "0  ...                                           None          NaN   \n",
      "1  ...  Canadian Solar BiKu bifacial solar PV modules          NaN   \n",
      "2  ...                                           None          NaN   \n",
      "3  ...            Canadian Solar, bifacial BiKu, null     962000.0   \n",
      "\n",
      "  tech_invert  invert_count tracking storage         storage_tech  \\\n",
      "0        None          None     None       Y              battery   \n",
      "1        None          None     None       Y                 None   \n",
      "2        None          None     None       Y  lithium-ion battery   \n",
      "3        None          None     None       Y                 None   \n",
      "\n",
      "  storage_config                                project_description   name  \n",
      "0           None  A solar-plus-storage project with 561MWh of ba...   None  \n",
      "1           None  300MW solar PV plant with 140.25MW / 561MWh ba...   None  \n",
      "2           None  PV-plus-storage project in Kings County, Calif...   None  \n",
      "3           None  300MW solar photovoltaic (PV) plus 140.25MW/56...  Slate  \n",
      "\n",
      "[4 rows x 25 columns]\n"
     ]
    }
   ],
   "source": [
    "print(aggregated_df)"
   ]
  },
  {
   "cell_type": "code",
   "execution_count": 13,
   "id": "1ccb551f",
   "metadata": {},
   "outputs": [],
   "source": [
    "aggregated_df = aggregated_df.drop('Unnamed: 0', axis=1)\n",
    "aggregated_df.to_csv(\"aggregated_df_20240716.csv\")"
   ]
  }
 ],
 "metadata": {
  "kernelspec": {
   "display_name": "Python 3 (ipykernel)",
   "language": "python",
   "name": "python3"
  },
  "language_info": {
   "codemirror_mode": {
    "name": "ipython",
    "version": 3
   },
   "file_extension": ".py",
   "mimetype": "text/x-python",
   "name": "python",
   "nbconvert_exporter": "python",
   "pygments_lexer": "ipython3",
   "version": "3.9.16"
  }
 },
 "nbformat": 4,
 "nbformat_minor": 5
}
